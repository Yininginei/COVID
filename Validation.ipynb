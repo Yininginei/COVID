{
 "cells": [
  {
   "cell_type": "code",
   "execution_count": 1,
   "metadata": {},
   "outputs": [],
   "source": [
    "import pandas as pd\n",
    "import numpy as np\n",
    "from scipy import stats\n",
    "from scipy.stats import ks_2samp"
   ]
  },
  {
   "cell_type": "markdown",
   "metadata": {},
   "source": [
    "## 活動選択（コルモゴロフ–スミルノフ検定）"
   ]
  },
  {
   "cell_type": "code",
   "execution_count": 2,
   "metadata": {},
   "outputs": [],
   "source": [
    "data = pd.read_csv('Row Data.csv')"
   ]
  },
  {
   "cell_type": "code",
   "execution_count": 3,
   "metadata": {},
   "outputs": [],
   "source": [
    "wave0 = data.loc[:,\"1_q8_2_1\":\"1_q8_2_12\"].fillna(0)\n",
    "wave1 = data.loc[:,\"1_q6_2_1\":\"1_q6_2_12\"].fillna(0)\n",
    "wave2 = data.loc[:,\"2_q4_2_1\":\"2_q4_2_12\"].fillna(0)\n",
    "wave3 = data.loc[:,\"3_q4_2_1\":\"3_q4_2_12\"].fillna(0)"
   ]
  },
  {
   "cell_type": "code",
   "execution_count": 4,
   "metadata": {},
   "outputs": [
    {
     "name": "stdout",
     "output_type": "stream",
     "text": [
      "[[0. 0. 0. ... 0. 0. 0.]\n",
      " [4. 0. 1. ... 1. 0. 2.]\n",
      " [0. 0. 0. ... 0. 0. 0.]\n",
      " ...\n",
      " [6. 0. 0. ... 0. 0. 2.]\n",
      " [6. 0. 0. ... 0. 0. 0.]\n",
      " [0. 0. 2. ... 0. 0. 0.]]\n"
     ]
    }
   ],
   "source": [
    "print(wave0.values)"
   ]
  },
  {
   "cell_type": "code",
   "execution_count": 5,
   "metadata": {},
   "outputs": [],
   "source": [
    "Labels = [\"Commuting\",\"Pick-up and drop-off\",\"Hospital visit\",\n",
    "         \"Shopping for food and necessities\",\"Get take-out food at restaurants\",\n",
    "         \"Shopping for others (excluding food, necessities, and take-out food)\",\"Eat and drink for socializing\",\"Eat and drink for others\",\n",
    "         \"Indoor amusement (movie, etc.)\",\"Individual outdoor activity\",\"Group outdoor activity\",\n",
    "         \"Use essential services (bank, etc.)\"]"
   ]
  },
  {
   "cell_type": "code",
   "execution_count": 20,
   "metadata": {},
   "outputs": [
    {
     "name": "stdout",
     "output_type": "stream",
     "text": [
      "a1:Commuting\n",
      "a4:Shopping for food and necessities\n",
      "a7:Eat and drink for socializing\n",
      "a8:Eat and drink for others\n",
      "a9:Indoor amusement (movie, etc.)\n"
     ]
    }
   ],
   "source": [
    "with open ('ValidationI.csv','a') as f:\n",
    "    for i in range(1,13):\n",
    "        Pvalue = []\n",
    "        W0 = wave0['1_q8_2_'+str(i)].values\n",
    "        W1 = wave1['1_q6_2_'+str(i)].values\n",
    "        W2 = wave2['2_q4_2_'+str(i)].values\n",
    "        W3 = wave3['3_q4_2_'+str(i)].values\n",
    "\n",
    "        Pvalue.append(stats.ks_2samp(W0,W1).pvalue)\n",
    "        Pvalue.append(stats.ks_2samp(W0,W2).pvalue)\n",
    "        Pvalue.append(stats.ks_2samp(W0,W3).pvalue)\n",
    "        f.write(str(Pvalue[0])+','+str(Pvalue[1])+','+str(Pvalue[2])+'\\n')\n",
    "        if min(Pvalue) < 0.05:\n",
    "            print('a'+str(i)+':'+Labels[i-1])"
   ]
  },
  {
   "cell_type": "markdown",
   "metadata": {},
   "source": [
    "## t検定"
   ]
  },
  {
   "cell_type": "code",
   "execution_count": 33,
   "metadata": {},
   "outputs": [],
   "source": [
    "LC = pd.read_csv('LC.csv')"
   ]
  },
  {
   "cell_type": "code",
   "execution_count": 34,
   "metadata": {},
   "outputs": [],
   "source": [
    "Features = ['gender','elder','D23','dif','hel','ful','veh','nee','pb']\n",
    "#Activities = ['a1','a2','a3','a4','a5','a6','a7','a8','a8','a9','a10','a11','a12']\n",
    "Activities = ['a1','a4','a7','a8','a9']"
   ]
  },
  {
   "cell_type": "code",
   "execution_count": 35,
   "metadata": {},
   "outputs": [],
   "source": [
    "wave0 = LC[LC['wave'] == 0].reset_index(drop=True)\n",
    "wave1 = LC[LC['wave'] == 1].reset_index(drop=True)\n",
    "wave2 = LC[LC['wave'] == 2].reset_index(drop=True)\n",
    "wave3 = LC[LC['wave'] == 3].reset_index(drop=True)"
   ]
  },
  {
   "cell_type": "code",
   "execution_count": 38,
   "metadata": {},
   "outputs": [
    {
     "name": "stdout",
     "output_type": "stream",
     "text": [
      "a1:ful\n",
      "a1:nee\n",
      "a1:pb\n",
      "a4:dif\n",
      "a9:hel\n"
     ]
    }
   ],
   "source": [
    "with open ('ValidationII.csv','a') as f:\n",
    "    for a in Activities:\n",
    "        for x in Features:\n",
    "            Pvalue = []\n",
    "            W00 = wave0[wave0[x] == 0][a].values # wave0における、特徴xを持たない人がアクティビティaの日数選択状況\n",
    "            W10 = wave1[wave1[x] == 0][a].values\n",
    "            W20 = wave2[wave2[x] == 0][a].values\n",
    "            W30 = wave3[wave3[x] == 0][a].values\n",
    "            W01 = wave0[wave0[x] == 1][a].values\n",
    "            W11 = wave1[wave1[x] == 1][a].values\n",
    "            W21 = wave2[wave2[x] == 1][a].values\n",
    "            W31 = wave3[wave3[x] == 1][a].values\n",
    "\n",
    "            Pvalue.append(stats.ttest_ind(W00,W01,equal_var = False).pvalue)\n",
    "            Pvalue.append(stats.ttest_ind(W10,W11,equal_var = False).pvalue)\n",
    "            Pvalue.append(stats.ttest_ind(W20,W21,equal_var = False).pvalue)\n",
    "            Pvalue.append(stats.ttest_ind(W30,W31,equal_var = False).pvalue)\n",
    "            \n",
    "            f.write(str(stats.ttest_ind(W00,W01,equal_var = False).statistic)+',')\n",
    "            f.write(str(stats.ttest_ind(W00,W01,equal_var = False).pvalue)+',')\n",
    "            f.write(str(stats.ttest_ind(W10,W11,equal_var = False).statistic)+',')\n",
    "            f.write(str(stats.ttest_ind(W10,W11,equal_var = False).pvalue)+',')\n",
    "            f.write(str(stats.ttest_ind(W20,W21,equal_var = False).statistic)+',')\n",
    "            f.write(str(stats.ttest_ind(W20,W21,equal_var = False).pvalue)+',')\n",
    "            f.write(str(stats.ttest_ind(W30,W31,equal_var = False).statistic)+',')\n",
    "            f.write(str(stats.ttest_ind(W30,W31,equal_var = False).pvalue)+',')\n",
    "            \n",
    "            if max(Pvalue) < 0.05:\n",
    "                print(a+':'+x)\n",
    "        f.write('\\n')"
   ]
  },
  {
   "cell_type": "code",
   "execution_count": null,
   "metadata": {},
   "outputs": [],
   "source": []
  },
  {
   "cell_type": "code",
   "execution_count": null,
   "metadata": {},
   "outputs": [],
   "source": []
  },
  {
   "cell_type": "code",
   "execution_count": null,
   "metadata": {},
   "outputs": [],
   "source": []
  }
 ],
 "metadata": {
  "kernelspec": {
   "display_name": "Python 3",
   "language": "python",
   "name": "python3"
  },
  "language_info": {
   "codemirror_mode": {
    "name": "ipython",
    "version": 3
   },
   "file_extension": ".py",
   "mimetype": "text/x-python",
   "name": "python",
   "nbconvert_exporter": "python",
   "pygments_lexer": "ipython3",
   "version": "3.8.3"
  }
 },
 "nbformat": 4,
 "nbformat_minor": 4
}
